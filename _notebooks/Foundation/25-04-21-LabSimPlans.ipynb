{
 "cells": [
  {
   "cell_type": "markdown",
   "id": "b3e93d5d",
   "metadata": {},
   "source": [
    "---\n",
    "comments: false\n",
    "layout: post\n",
    "title: Lab Sim Planning\n",
    "permalink: /labsimplanning\n",
    "---"
   ]
  },
  {
   "cell_type": "markdown",
   "id": "37617ed3",
   "metadata": {},
   "source": [
    "# Game Idea: Virtual Lab Simulation\n",
    "\n",
    "The Virtual Lab Simulation (VLS) is an immersive, interactive experience that offers Scripps Research’s social media followers a unique glimpse into groundbreaking biotechnology innovations. Through this dynamic simulation, users will engage with virtual lab experiments that showcase pioneering scientific advancements, deepening their understanding of and appreciation for Scripps Research’s contributions to the field. By bridging the gap between cutting-edge research and public engagement, VLS aims to enhance awareness of the institution’s transformative impact on biotechnology and inspire curiosity about the future of scientific discovery.\n",
    "\n",
    "## Scripps Research Scientific Achievements\n",
    "https://www.scripps.edu/\n",
    "https://www.scripps.edu/science-and-medicine/research-departments/\n",
    "\n",
    "\n",
    "## Specific things within VLS\n",
    "- We could simulate matching bases for DNA in a lab setting where you are trying to save someone life and then go into an explanation of how Scripps Research does research and innovations using CRISPR. We could have a large database with the correct matching base(DNA) and every time you get 1 wrong, the chances of the person surviving go down.\n",
    "- We could do something similar for other ideas regarding things Scripps Research has done, maybe 1 or 2 more ideas"
   ]
  }
 ],
 "metadata": {
  "language_info": {
   "name": "python"
  }
 },
 "nbformat": 4,
 "nbformat_minor": 5
}
